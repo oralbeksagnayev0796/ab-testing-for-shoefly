{
  "nbformat": 4,
  "nbformat_minor": 0,
  "metadata": {
    "kernelspec": {
      "display_name": "Python 3",
      "language": "python",
      "name": "python3"
    },
    "language_info": {
      "codemirror_mode": {
        "name": "ipython",
        "version": 3
      },
      "file_extension": ".py",
      "mimetype": "text/x-python",
      "name": "python",
      "nbconvert_exporter": "python",
      "pygments_lexer": "ipython3",
      "version": "3.8.3"
    },
    "colab": {
      "name": "AB testing for Shoefly.ipynb",
      "provenance": [],
      "include_colab_link": true
    }
  },
  "cells": [
    {
      "cell_type": "markdown",
      "metadata": {
        "id": "view-in-github",
        "colab_type": "text"
      },
      "source": [
        "<a href=\"https://colab.research.google.com/gist/Alessdelagarza/b7fe5a69acec6e21b96c9e2f2f4dae27/ab-testing-for-shoefly.ipynb\" target=\"_parent\"><img src=\"https://colab.research.google.com/assets/colab-badge.svg\" alt=\"Open In Colab\"/></a>"
      ]
    },
    {
      "cell_type": "markdown",
      "metadata": {
        "id": "SOtOPifCuH4o"
      },
      "source": [
        "# A/B Testing for ShoeFly.com"
      ]
    },
    {
      "cell_type": "markdown",
      "metadata": {
        "id": "KO2fqaRtuH4t"
      },
      "source": [
        " __Project Description:__ \n",
        "Our favorite online shoe store, ShoeFly.com is \n",
        "performing an A/B Test. They have two different versions of an ad, which they \n",
        "have placed in emails, as well as in banner ads on Facebook, Twitter, and Google. They want to know how the two ads are performing on each of the different platforms on each day of the week. Help them analyze the data using aggregate measures."
      ]
    },
    {
      "cell_type": "code",
      "metadata": {
        "id": "V5KDvr_auH4u",
        "outputId": "255b28a8-ecf0-4cf4-af8e-8dcb0303cc8d"
      },
      "source": [
        "import pandas as pd\n",
        "\n",
        "ad_clicks = pd.read_csv('ad_clicks.csv')\n",
        "ad_clicks.head(5)"
      ],
      "execution_count": null,
      "outputs": [
        {
          "output_type": "execute_result",
          "data": {
            "text/html": [
              "<div>\n",
              "<style scoped>\n",
              "    .dataframe tbody tr th:only-of-type {\n",
              "        vertical-align: middle;\n",
              "    }\n",
              "\n",
              "    .dataframe tbody tr th {\n",
              "        vertical-align: top;\n",
              "    }\n",
              "\n",
              "    .dataframe thead th {\n",
              "        text-align: right;\n",
              "    }\n",
              "</style>\n",
              "<table border=\"1\" class=\"dataframe\">\n",
              "  <thead>\n",
              "    <tr style=\"text-align: right;\">\n",
              "      <th></th>\n",
              "      <th>user_id</th>\n",
              "      <th>utm_source</th>\n",
              "      <th>day</th>\n",
              "      <th>ad_click_timestamp</th>\n",
              "      <th>experimental_group</th>\n",
              "    </tr>\n",
              "  </thead>\n",
              "  <tbody>\n",
              "    <tr>\n",
              "      <th>0</th>\n",
              "      <td>008b7c6c-7272-471e-b90e-930d548bd8d7</td>\n",
              "      <td>google</td>\n",
              "      <td>6 - Saturday</td>\n",
              "      <td>7:18</td>\n",
              "      <td>A</td>\n",
              "    </tr>\n",
              "    <tr>\n",
              "      <th>1</th>\n",
              "      <td>009abb94-5e14-4b6c-bb1c-4f4df7aa7557</td>\n",
              "      <td>facebook</td>\n",
              "      <td>7 - Sunday</td>\n",
              "      <td>NaN</td>\n",
              "      <td>B</td>\n",
              "    </tr>\n",
              "    <tr>\n",
              "      <th>2</th>\n",
              "      <td>00f5d532-ed58-4570-b6d2-768df5f41aed</td>\n",
              "      <td>twitter</td>\n",
              "      <td>2 - Tuesday</td>\n",
              "      <td>NaN</td>\n",
              "      <td>A</td>\n",
              "    </tr>\n",
              "    <tr>\n",
              "      <th>3</th>\n",
              "      <td>011adc64-0f44-4fd9-a0bb-f1506d2ad439</td>\n",
              "      <td>google</td>\n",
              "      <td>2 - Tuesday</td>\n",
              "      <td>NaN</td>\n",
              "      <td>B</td>\n",
              "    </tr>\n",
              "    <tr>\n",
              "      <th>4</th>\n",
              "      <td>012137e6-7ae7-4649-af68-205b4702169c</td>\n",
              "      <td>facebook</td>\n",
              "      <td>7 - Sunday</td>\n",
              "      <td>NaN</td>\n",
              "      <td>B</td>\n",
              "    </tr>\n",
              "  </tbody>\n",
              "</table>\n",
              "</div>"
            ],
            "text/plain": [
              "                                user_id utm_source           day  \\\n",
              "0  008b7c6c-7272-471e-b90e-930d548bd8d7     google  6 - Saturday   \n",
              "1  009abb94-5e14-4b6c-bb1c-4f4df7aa7557   facebook    7 - Sunday   \n",
              "2  00f5d532-ed58-4570-b6d2-768df5f41aed    twitter   2 - Tuesday   \n",
              "3  011adc64-0f44-4fd9-a0bb-f1506d2ad439     google   2 - Tuesday   \n",
              "4  012137e6-7ae7-4649-af68-205b4702169c   facebook    7 - Sunday   \n",
              "\n",
              "  ad_click_timestamp experimental_group  \n",
              "0               7:18                  A  \n",
              "1                NaN                  B  \n",
              "2                NaN                  A  \n",
              "3                NaN                  B  \n",
              "4                NaN                  B  "
            ]
          },
          "metadata": {
            "tags": []
          },
          "execution_count": 31
        }
      ]
    },
    {
      "cell_type": "markdown",
      "metadata": {
        "id": "liE0X11HuH4w"
      },
      "source": [
        "__Q1:__ Which ad platform is gettting the most views?"
      ]
    },
    {
      "cell_type": "code",
      "metadata": {
        "id": "D-mjxLeMuH4w",
        "outputId": "17718982-3b0b-49fd-df6f-a935a1e8cb3d"
      },
      "source": [
        "clicks_by_source = ad_clicks.groupby('utm_source').user_id.count().reset_index()\n",
        "print(clicks_by_source)"
      ],
      "execution_count": null,
      "outputs": [
        {
          "output_type": "stream",
          "text": [
            "  utm_source  user_id\n",
            "0      email      255\n",
            "1   facebook      504\n",
            "2     google      680\n",
            "3    twitter      215\n"
          ],
          "name": "stdout"
        }
      ]
    },
    {
      "cell_type": "markdown",
      "metadata": {
        "id": "XXvk3xjBuH4x"
      },
      "source": [
        ">__A1:__ Google had the largestt number of ad clicks with a total of 680"
      ]
    },
    {
      "cell_type": "markdown",
      "metadata": {
        "id": "u8fjvb-3uH4x"
      },
      "source": [
        "__Q2:__ Create a new column `is_click` that shoes True if `ad_click_timestamp`is not null and False otherwise"
      ]
    },
    {
      "cell_type": "code",
      "metadata": {
        "id": "c4Yi9V5OuH4x",
        "outputId": "283fb64d-5a90-4f8a-82c1-9d43da24a044"
      },
      "source": [
        "ad_clicks['is_click'] = ~ad_clicks.ad_click_timestamp.isnull()\n",
        "ad_clicks.head(5)"
      ],
      "execution_count": null,
      "outputs": [
        {
          "output_type": "execute_result",
          "data": {
            "text/html": [
              "<div>\n",
              "<style scoped>\n",
              "    .dataframe tbody tr th:only-of-type {\n",
              "        vertical-align: middle;\n",
              "    }\n",
              "\n",
              "    .dataframe tbody tr th {\n",
              "        vertical-align: top;\n",
              "    }\n",
              "\n",
              "    .dataframe thead th {\n",
              "        text-align: right;\n",
              "    }\n",
              "</style>\n",
              "<table border=\"1\" class=\"dataframe\">\n",
              "  <thead>\n",
              "    <tr style=\"text-align: right;\">\n",
              "      <th></th>\n",
              "      <th>user_id</th>\n",
              "      <th>utm_source</th>\n",
              "      <th>day</th>\n",
              "      <th>ad_click_timestamp</th>\n",
              "      <th>experimental_group</th>\n",
              "      <th>is_click</th>\n",
              "    </tr>\n",
              "  </thead>\n",
              "  <tbody>\n",
              "    <tr>\n",
              "      <th>0</th>\n",
              "      <td>008b7c6c-7272-471e-b90e-930d548bd8d7</td>\n",
              "      <td>google</td>\n",
              "      <td>6 - Saturday</td>\n",
              "      <td>7:18</td>\n",
              "      <td>A</td>\n",
              "      <td>True</td>\n",
              "    </tr>\n",
              "    <tr>\n",
              "      <th>1</th>\n",
              "      <td>009abb94-5e14-4b6c-bb1c-4f4df7aa7557</td>\n",
              "      <td>facebook</td>\n",
              "      <td>7 - Sunday</td>\n",
              "      <td>NaN</td>\n",
              "      <td>B</td>\n",
              "      <td>False</td>\n",
              "    </tr>\n",
              "    <tr>\n",
              "      <th>2</th>\n",
              "      <td>00f5d532-ed58-4570-b6d2-768df5f41aed</td>\n",
              "      <td>twitter</td>\n",
              "      <td>2 - Tuesday</td>\n",
              "      <td>NaN</td>\n",
              "      <td>A</td>\n",
              "      <td>False</td>\n",
              "    </tr>\n",
              "    <tr>\n",
              "      <th>3</th>\n",
              "      <td>011adc64-0f44-4fd9-a0bb-f1506d2ad439</td>\n",
              "      <td>google</td>\n",
              "      <td>2 - Tuesday</td>\n",
              "      <td>NaN</td>\n",
              "      <td>B</td>\n",
              "      <td>False</td>\n",
              "    </tr>\n",
              "    <tr>\n",
              "      <th>4</th>\n",
              "      <td>012137e6-7ae7-4649-af68-205b4702169c</td>\n",
              "      <td>facebook</td>\n",
              "      <td>7 - Sunday</td>\n",
              "      <td>NaN</td>\n",
              "      <td>B</td>\n",
              "      <td>False</td>\n",
              "    </tr>\n",
              "  </tbody>\n",
              "</table>\n",
              "</div>"
            ],
            "text/plain": [
              "                                user_id utm_source           day  \\\n",
              "0  008b7c6c-7272-471e-b90e-930d548bd8d7     google  6 - Saturday   \n",
              "1  009abb94-5e14-4b6c-bb1c-4f4df7aa7557   facebook    7 - Sunday   \n",
              "2  00f5d532-ed58-4570-b6d2-768df5f41aed    twitter   2 - Tuesday   \n",
              "3  011adc64-0f44-4fd9-a0bb-f1506d2ad439     google   2 - Tuesday   \n",
              "4  012137e6-7ae7-4649-af68-205b4702169c   facebook    7 - Sunday   \n",
              "\n",
              "  ad_click_timestamp experimental_group  is_click  \n",
              "0               7:18                  A      True  \n",
              "1                NaN                  B     False  \n",
              "2                NaN                  A     False  \n",
              "3                NaN                  B     False  \n",
              "4                NaN                  B     False  "
            ]
          },
          "metadata": {
            "tags": []
          },
          "execution_count": 33
        }
      ]
    },
    {
      "cell_type": "markdown",
      "metadata": {
        "id": "5eeG4VDmuH4y"
      },
      "source": [
        "__Q3:__ We now want to know the percent of people who clicked on the ads per source. First we need to group by `utm_source` and `is_click` "
      ]
    },
    {
      "cell_type": "code",
      "metadata": {
        "id": "t1ezB-L6uH4y",
        "outputId": "b4040859-4e18-4e2c-8139-34a818d8389e"
      },
      "source": [
        "clicks_by_source = ad_clicks.groupby(['utm_source', 'is_click']).user_id.count().reset_index()\n",
        "clicks_by_source"
      ],
      "execution_count": null,
      "outputs": [
        {
          "output_type": "execute_result",
          "data": {
            "text/html": [
              "<div>\n",
              "<style scoped>\n",
              "    .dataframe tbody tr th:only-of-type {\n",
              "        vertical-align: middle;\n",
              "    }\n",
              "\n",
              "    .dataframe tbody tr th {\n",
              "        vertical-align: top;\n",
              "    }\n",
              "\n",
              "    .dataframe thead th {\n",
              "        text-align: right;\n",
              "    }\n",
              "</style>\n",
              "<table border=\"1\" class=\"dataframe\">\n",
              "  <thead>\n",
              "    <tr style=\"text-align: right;\">\n",
              "      <th></th>\n",
              "      <th>utm_source</th>\n",
              "      <th>is_click</th>\n",
              "      <th>user_id</th>\n",
              "    </tr>\n",
              "  </thead>\n",
              "  <tbody>\n",
              "    <tr>\n",
              "      <th>0</th>\n",
              "      <td>email</td>\n",
              "      <td>False</td>\n",
              "      <td>175</td>\n",
              "    </tr>\n",
              "    <tr>\n",
              "      <th>1</th>\n",
              "      <td>email</td>\n",
              "      <td>True</td>\n",
              "      <td>80</td>\n",
              "    </tr>\n",
              "    <tr>\n",
              "      <th>2</th>\n",
              "      <td>facebook</td>\n",
              "      <td>False</td>\n",
              "      <td>324</td>\n",
              "    </tr>\n",
              "    <tr>\n",
              "      <th>3</th>\n",
              "      <td>facebook</td>\n",
              "      <td>True</td>\n",
              "      <td>180</td>\n",
              "    </tr>\n",
              "    <tr>\n",
              "      <th>4</th>\n",
              "      <td>google</td>\n",
              "      <td>False</td>\n",
              "      <td>441</td>\n",
              "    </tr>\n",
              "    <tr>\n",
              "      <th>5</th>\n",
              "      <td>google</td>\n",
              "      <td>True</td>\n",
              "      <td>239</td>\n",
              "    </tr>\n",
              "    <tr>\n",
              "      <th>6</th>\n",
              "      <td>twitter</td>\n",
              "      <td>False</td>\n",
              "      <td>149</td>\n",
              "    </tr>\n",
              "    <tr>\n",
              "      <th>7</th>\n",
              "      <td>twitter</td>\n",
              "      <td>True</td>\n",
              "      <td>66</td>\n",
              "    </tr>\n",
              "  </tbody>\n",
              "</table>\n",
              "</div>"
            ],
            "text/plain": [
              "  utm_source  is_click  user_id\n",
              "0      email     False      175\n",
              "1      email      True       80\n",
              "2   facebook     False      324\n",
              "3   facebook      True      180\n",
              "4     google     False      441\n",
              "5     google      True      239\n",
              "6    twitter     False      149\n",
              "7    twitter      True       66"
            ]
          },
          "metadata": {
            "tags": []
          },
          "execution_count": 36
        }
      ]
    },
    {
      "cell_type": "markdown",
      "metadata": {
        "id": "aJeTGAfNuH4z"
      },
      "source": [
        "> Now, lets pivot the table to make it easier to compare the values"
      ]
    },
    {
      "cell_type": "code",
      "metadata": {
        "id": "x5w-WxZmuH4z",
        "outputId": "55f31fcd-a63f-40a8-c54f-aa08138375f2"
      },
      "source": [
        "clicks_pivot = clicks_by_source.pivot(columns='is_click', index='utm_source', values='user_id')\n",
        "clicks_pivot"
      ],
      "execution_count": null,
      "outputs": [
        {
          "output_type": "execute_result",
          "data": {
            "text/html": [
              "<div>\n",
              "<style scoped>\n",
              "    .dataframe tbody tr th:only-of-type {\n",
              "        vertical-align: middle;\n",
              "    }\n",
              "\n",
              "    .dataframe tbody tr th {\n",
              "        vertical-align: top;\n",
              "    }\n",
              "\n",
              "    .dataframe thead th {\n",
              "        text-align: right;\n",
              "    }\n",
              "</style>\n",
              "<table border=\"1\" class=\"dataframe\">\n",
              "  <thead>\n",
              "    <tr style=\"text-align: right;\">\n",
              "      <th>is_click</th>\n",
              "      <th>False</th>\n",
              "      <th>True</th>\n",
              "    </tr>\n",
              "    <tr>\n",
              "      <th>utm_source</th>\n",
              "      <th></th>\n",
              "      <th></th>\n",
              "    </tr>\n",
              "  </thead>\n",
              "  <tbody>\n",
              "    <tr>\n",
              "      <th>email</th>\n",
              "      <td>175</td>\n",
              "      <td>80</td>\n",
              "    </tr>\n",
              "    <tr>\n",
              "      <th>facebook</th>\n",
              "      <td>324</td>\n",
              "      <td>180</td>\n",
              "    </tr>\n",
              "    <tr>\n",
              "      <th>google</th>\n",
              "      <td>441</td>\n",
              "      <td>239</td>\n",
              "    </tr>\n",
              "    <tr>\n",
              "      <th>twitter</th>\n",
              "      <td>149</td>\n",
              "      <td>66</td>\n",
              "    </tr>\n",
              "  </tbody>\n",
              "</table>\n",
              "</div>"
            ],
            "text/plain": [
              "is_click    False  True \n",
              "utm_source              \n",
              "email         175     80\n",
              "facebook      324    180\n",
              "google        441    239\n",
              "twitter       149     66"
            ]
          },
          "metadata": {
            "tags": []
          },
          "execution_count": 37
        }
      ]
    },
    {
      "cell_type": "markdown",
      "metadata": {
        "id": "sDn4EgiUuH4z"
      },
      "source": [
        "> Lets find the percentage of clicks from total ads shown"
      ]
    },
    {
      "cell_type": "code",
      "metadata": {
        "id": "MmYGRnDquH40",
        "outputId": "327f1688-2fb3-4f2d-d0c7-2ab1fc3d7fac"
      },
      "source": [
        "clicks_pivot['percent_clicked'] = round(clicks_pivot[True] / (clicks_pivot[True] + clicks_pivot[False]) * 100, 2)\n",
        "clicks_pivot"
      ],
      "execution_count": null,
      "outputs": [
        {
          "output_type": "execute_result",
          "data": {
            "text/html": [
              "<div>\n",
              "<style scoped>\n",
              "    .dataframe tbody tr th:only-of-type {\n",
              "        vertical-align: middle;\n",
              "    }\n",
              "\n",
              "    .dataframe tbody tr th {\n",
              "        vertical-align: top;\n",
              "    }\n",
              "\n",
              "    .dataframe thead th {\n",
              "        text-align: right;\n",
              "    }\n",
              "</style>\n",
              "<table border=\"1\" class=\"dataframe\">\n",
              "  <thead>\n",
              "    <tr style=\"text-align: right;\">\n",
              "      <th>is_click</th>\n",
              "      <th>False</th>\n",
              "      <th>True</th>\n",
              "      <th>percent_clicked</th>\n",
              "    </tr>\n",
              "    <tr>\n",
              "      <th>utm_source</th>\n",
              "      <th></th>\n",
              "      <th></th>\n",
              "      <th></th>\n",
              "    </tr>\n",
              "  </thead>\n",
              "  <tbody>\n",
              "    <tr>\n",
              "      <th>email</th>\n",
              "      <td>175</td>\n",
              "      <td>80</td>\n",
              "      <td>31.37</td>\n",
              "    </tr>\n",
              "    <tr>\n",
              "      <th>facebook</th>\n",
              "      <td>324</td>\n",
              "      <td>180</td>\n",
              "      <td>35.71</td>\n",
              "    </tr>\n",
              "    <tr>\n",
              "      <th>google</th>\n",
              "      <td>441</td>\n",
              "      <td>239</td>\n",
              "      <td>35.15</td>\n",
              "    </tr>\n",
              "    <tr>\n",
              "      <th>twitter</th>\n",
              "      <td>149</td>\n",
              "      <td>66</td>\n",
              "      <td>30.70</td>\n",
              "    </tr>\n",
              "  </tbody>\n",
              "</table>\n",
              "</div>"
            ],
            "text/plain": [
              "is_click    False  True  percent_clicked\n",
              "utm_source                              \n",
              "email         175    80            31.37\n",
              "facebook      324   180            35.71\n",
              "google        441   239            35.15\n",
              "twitter       149    66            30.70"
            ]
          },
          "metadata": {
            "tags": []
          },
          "execution_count": 47
        }
      ]
    },
    {
      "cell_type": "markdown",
      "metadata": {
        "id": "SxxfhetruH40"
      },
      "source": [
        "__Q4:__ Lets asses how many users were shown tests A or B. "
      ]
    },
    {
      "cell_type": "code",
      "metadata": {
        "id": "BazSjUSeuH40",
        "outputId": "af9ff688-0571-450e-e156-a1acba9a654e"
      },
      "source": [
        "clicks_by_group = ad_clicks.groupby(['experimental_group']).user_id.count().reset_index()\n",
        "clicks_by_group"
      ],
      "execution_count": null,
      "outputs": [
        {
          "output_type": "execute_result",
          "data": {
            "text/html": [
              "<div>\n",
              "<style scoped>\n",
              "    .dataframe tbody tr th:only-of-type {\n",
              "        vertical-align: middle;\n",
              "    }\n",
              "\n",
              "    .dataframe tbody tr th {\n",
              "        vertical-align: top;\n",
              "    }\n",
              "\n",
              "    .dataframe thead th {\n",
              "        text-align: right;\n",
              "    }\n",
              "</style>\n",
              "<table border=\"1\" class=\"dataframe\">\n",
              "  <thead>\n",
              "    <tr style=\"text-align: right;\">\n",
              "      <th></th>\n",
              "      <th>experimental_group</th>\n",
              "      <th>user_id</th>\n",
              "    </tr>\n",
              "  </thead>\n",
              "  <tbody>\n",
              "    <tr>\n",
              "      <th>0</th>\n",
              "      <td>A</td>\n",
              "      <td>827</td>\n",
              "    </tr>\n",
              "    <tr>\n",
              "      <th>1</th>\n",
              "      <td>B</td>\n",
              "      <td>827</td>\n",
              "    </tr>\n",
              "  </tbody>\n",
              "</table>\n",
              "</div>"
            ],
            "text/plain": [
              "  experimental_group  user_id\n",
              "0                  A      827\n",
              "1                  B      827"
            ]
          },
          "metadata": {
            "tags": []
          },
          "execution_count": 62
        }
      ]
    },
    {
      "cell_type": "code",
      "metadata": {
        "id": "DLxxX3TIuH41",
        "outputId": "9be7e832-94be-47ee-ca2b-e728a44b9ecb"
      },
      "source": [
        "clicks_by_group = ad_clicks.groupby(['experimental_group', 'utm_source']).user_id.count().reset_index()\n",
        "clicks_by_group_pivot = clicks_by_group.pivot(columns='experimental_group', index='utm_source', values='user_id')\n",
        "clicks_by_group_pivot"
      ],
      "execution_count": null,
      "outputs": [
        {
          "output_type": "execute_result",
          "data": {
            "text/html": [
              "<div>\n",
              "<style scoped>\n",
              "    .dataframe tbody tr th:only-of-type {\n",
              "        vertical-align: middle;\n",
              "    }\n",
              "\n",
              "    .dataframe tbody tr th {\n",
              "        vertical-align: top;\n",
              "    }\n",
              "\n",
              "    .dataframe thead th {\n",
              "        text-align: right;\n",
              "    }\n",
              "</style>\n",
              "<table border=\"1\" class=\"dataframe\">\n",
              "  <thead>\n",
              "    <tr style=\"text-align: right;\">\n",
              "      <th>experimental_group</th>\n",
              "      <th>A</th>\n",
              "      <th>B</th>\n",
              "    </tr>\n",
              "    <tr>\n",
              "      <th>utm_source</th>\n",
              "      <th></th>\n",
              "      <th></th>\n",
              "    </tr>\n",
              "  </thead>\n",
              "  <tbody>\n",
              "    <tr>\n",
              "      <th>email</th>\n",
              "      <td>121</td>\n",
              "      <td>134</td>\n",
              "    </tr>\n",
              "    <tr>\n",
              "      <th>facebook</th>\n",
              "      <td>254</td>\n",
              "      <td>250</td>\n",
              "    </tr>\n",
              "    <tr>\n",
              "      <th>google</th>\n",
              "      <td>349</td>\n",
              "      <td>331</td>\n",
              "    </tr>\n",
              "    <tr>\n",
              "      <th>twitter</th>\n",
              "      <td>103</td>\n",
              "      <td>112</td>\n",
              "    </tr>\n",
              "  </tbody>\n",
              "</table>\n",
              "</div>"
            ],
            "text/plain": [
              "experimental_group    A    B\n",
              "utm_source                  \n",
              "email               121  134\n",
              "facebook            254  250\n",
              "google              349  331\n",
              "twitter             103  112"
            ]
          },
          "metadata": {
            "tags": []
          },
          "execution_count": 63
        }
      ]
    },
    {
      "cell_type": "markdown",
      "metadata": {
        "id": "paLip0CRuH41"
      },
      "source": [
        "> __A4:__ Roughly the same amount of people were shown experiment A and B for each source. Overall, 827 people were shown test A and 827 people were shown Test B"
      ]
    },
    {
      "cell_type": "markdown",
      "metadata": {
        "id": "CDq70H68uH42"
      },
      "source": [
        "__Q5:__ Check the percentage of clicks that each Ad, A or B, received."
      ]
    },
    {
      "cell_type": "code",
      "metadata": {
        "id": "di8N5B70uH42",
        "outputId": "83705cff-9c67-47d4-f469-0c23f949f136"
      },
      "source": [
        "clicks_by_group = ad_clicks.groupby(['experimental_group', 'is_click']).user_id.count().reset_index()\n",
        "clicks_by_group\n",
        "clicks_by_group_pivot = clicks_by_group.pivot(columns='is_click', index='experimental_group', values='user_id').reset_index()\n",
        "clicks_by_group_pivot"
      ],
      "execution_count": null,
      "outputs": [
        {
          "output_type": "execute_result",
          "data": {
            "text/html": [
              "<div>\n",
              "<style scoped>\n",
              "    .dataframe tbody tr th:only-of-type {\n",
              "        vertical-align: middle;\n",
              "    }\n",
              "\n",
              "    .dataframe tbody tr th {\n",
              "        vertical-align: top;\n",
              "    }\n",
              "\n",
              "    .dataframe thead th {\n",
              "        text-align: right;\n",
              "    }\n",
              "</style>\n",
              "<table border=\"1\" class=\"dataframe\">\n",
              "  <thead>\n",
              "    <tr style=\"text-align: right;\">\n",
              "      <th>is_click</th>\n",
              "      <th>experimental_group</th>\n",
              "      <th>False</th>\n",
              "      <th>True</th>\n",
              "    </tr>\n",
              "  </thead>\n",
              "  <tbody>\n",
              "    <tr>\n",
              "      <th>0</th>\n",
              "      <td>A</td>\n",
              "      <td>517</td>\n",
              "      <td>310</td>\n",
              "    </tr>\n",
              "    <tr>\n",
              "      <th>1</th>\n",
              "      <td>B</td>\n",
              "      <td>572</td>\n",
              "      <td>255</td>\n",
              "    </tr>\n",
              "  </tbody>\n",
              "</table>\n",
              "</div>"
            ],
            "text/plain": [
              "is_click experimental_group  False  True\n",
              "0                         A    517   310\n",
              "1                         B    572   255"
            ]
          },
          "metadata": {
            "tags": []
          },
          "execution_count": 68
        }
      ]
    },
    {
      "cell_type": "code",
      "metadata": {
        "id": "La0lSynsuH43",
        "outputId": "7fef1c8d-7922-40b1-8af9-dae5490156ba"
      },
      "source": [
        "clicks_by_group_pivot['percentage_clicks'] = round(clicks_by_group_pivot[True] / (clicks_by_group_pivot[True] + clicks_by_group_pivot[False]) * 100, 2)\n",
        "clicks_by_group_pivot"
      ],
      "execution_count": null,
      "outputs": [
        {
          "output_type": "execute_result",
          "data": {
            "text/html": [
              "<div>\n",
              "<style scoped>\n",
              "    .dataframe tbody tr th:only-of-type {\n",
              "        vertical-align: middle;\n",
              "    }\n",
              "\n",
              "    .dataframe tbody tr th {\n",
              "        vertical-align: top;\n",
              "    }\n",
              "\n",
              "    .dataframe thead th {\n",
              "        text-align: right;\n",
              "    }\n",
              "</style>\n",
              "<table border=\"1\" class=\"dataframe\">\n",
              "  <thead>\n",
              "    <tr style=\"text-align: right;\">\n",
              "      <th>is_click</th>\n",
              "      <th>experimental_group</th>\n",
              "      <th>False</th>\n",
              "      <th>True</th>\n",
              "      <th>percentage_clicks</th>\n",
              "    </tr>\n",
              "  </thead>\n",
              "  <tbody>\n",
              "    <tr>\n",
              "      <th>0</th>\n",
              "      <td>A</td>\n",
              "      <td>517</td>\n",
              "      <td>310</td>\n",
              "      <td>37.48</td>\n",
              "    </tr>\n",
              "    <tr>\n",
              "      <th>1</th>\n",
              "      <td>B</td>\n",
              "      <td>572</td>\n",
              "      <td>255</td>\n",
              "      <td>30.83</td>\n",
              "    </tr>\n",
              "  </tbody>\n",
              "</table>\n",
              "</div>"
            ],
            "text/plain": [
              "is_click experimental_group  False  True  percentage_clicks\n",
              "0                         A    517   310              37.48\n",
              "1                         B    572   255              30.83"
            ]
          },
          "metadata": {
            "tags": []
          },
          "execution_count": 70
        }
      ]
    },
    {
      "cell_type": "markdown",
      "metadata": {
        "id": "2B0lYJCNuH43"
      },
      "source": [
        "> __A5:__ it appears to be that users who were shown Ad A clicked more often than those who viewed Ad B"
      ]
    },
    {
      "cell_type": "markdown",
      "metadata": {
        "id": "VUSXvk6TuH44"
      },
      "source": [
        "__Q6:__ Check what happends to each Ad during different days of the week."
      ]
    },
    {
      "cell_type": "code",
      "metadata": {
        "id": "biAv0koeuH44"
      },
      "source": [
        "a_clicks = ad_clicks[as_clicks.experimental_group == 'A']\n",
        "b_clicks = ad_clicks[as_clicks.experimental_group == 'B']"
      ],
      "execution_count": null,
      "outputs": []
    },
    {
      "cell_type": "code",
      "metadata": {
        "id": "QRMMY36kuH44",
        "outputId": "d2064b70-f857-4fee-dac6-30c001a3cd71"
      },
      "source": [
        "a_clicks_pivot = a_clicks.groupby(['is_click','day']).user_id.count().reset_index().pivot(columns='is_click', index='day',values='user_id').reset_index()\n",
        "a_clicks_pivot['percent_clicked'] = round(a_clicks_pivot[True] / (a_clicks_pivot[True] + a_clicks_pivot[False]) * 100, 2)\n",
        "a_clicks_pivot"
      ],
      "execution_count": null,
      "outputs": [
        {
          "output_type": "execute_result",
          "data": {
            "text/html": [
              "<div>\n",
              "<style scoped>\n",
              "    .dataframe tbody tr th:only-of-type {\n",
              "        vertical-align: middle;\n",
              "    }\n",
              "\n",
              "    .dataframe tbody tr th {\n",
              "        vertical-align: top;\n",
              "    }\n",
              "\n",
              "    .dataframe thead th {\n",
              "        text-align: right;\n",
              "    }\n",
              "</style>\n",
              "<table border=\"1\" class=\"dataframe\">\n",
              "  <thead>\n",
              "    <tr style=\"text-align: right;\">\n",
              "      <th>is_click</th>\n",
              "      <th>day</th>\n",
              "      <th>False</th>\n",
              "      <th>True</th>\n",
              "      <th>percent_clicked</th>\n",
              "    </tr>\n",
              "  </thead>\n",
              "  <tbody>\n",
              "    <tr>\n",
              "      <th>0</th>\n",
              "      <td>1 - Monday</td>\n",
              "      <td>70</td>\n",
              "      <td>43</td>\n",
              "      <td>38.05</td>\n",
              "    </tr>\n",
              "    <tr>\n",
              "      <th>1</th>\n",
              "      <td>2 - Tuesday</td>\n",
              "      <td>76</td>\n",
              "      <td>43</td>\n",
              "      <td>36.13</td>\n",
              "    </tr>\n",
              "    <tr>\n",
              "      <th>2</th>\n",
              "      <td>3 - Wednesday</td>\n",
              "      <td>86</td>\n",
              "      <td>38</td>\n",
              "      <td>30.65</td>\n",
              "    </tr>\n",
              "    <tr>\n",
              "      <th>3</th>\n",
              "      <td>4 - Thursday</td>\n",
              "      <td>69</td>\n",
              "      <td>47</td>\n",
              "      <td>40.52</td>\n",
              "    </tr>\n",
              "    <tr>\n",
              "      <th>4</th>\n",
              "      <td>5 - Friday</td>\n",
              "      <td>77</td>\n",
              "      <td>51</td>\n",
              "      <td>39.84</td>\n",
              "    </tr>\n",
              "    <tr>\n",
              "      <th>5</th>\n",
              "      <td>6 - Saturday</td>\n",
              "      <td>73</td>\n",
              "      <td>45</td>\n",
              "      <td>38.14</td>\n",
              "    </tr>\n",
              "    <tr>\n",
              "      <th>6</th>\n",
              "      <td>7 - Sunday</td>\n",
              "      <td>66</td>\n",
              "      <td>43</td>\n",
              "      <td>39.45</td>\n",
              "    </tr>\n",
              "  </tbody>\n",
              "</table>\n",
              "</div>"
            ],
            "text/plain": [
              "is_click            day  False  True  percent_clicked\n",
              "0            1 - Monday     70    43            38.05\n",
              "1           2 - Tuesday     76    43            36.13\n",
              "2         3 - Wednesday     86    38            30.65\n",
              "3          4 - Thursday     69    47            40.52\n",
              "4            5 - Friday     77    51            39.84\n",
              "5          6 - Saturday     73    45            38.14\n",
              "6            7 - Sunday     66    43            39.45"
            ]
          },
          "metadata": {
            "tags": []
          },
          "execution_count": 76
        }
      ]
    },
    {
      "cell_type": "code",
      "metadata": {
        "id": "ZtTDdKCUuH44",
        "outputId": "bc083935-bf28-4bfa-a65d-e5d6ff377ebc"
      },
      "source": [
        "b_clicks_pivot = b_clicks.groupby(['is_click','day']).user_id.count().reset_index().pivot(columns='is_click', index='day',values='user_id').reset_index()\n",
        "b_clicks_pivot['percent_clicked'] = round(b_clicks_pivot[True] / (b_clicks_pivot[True] + b_clicks_pivot[False]) * 100, 2)\n",
        "b_clicks_pivot"
      ],
      "execution_count": null,
      "outputs": [
        {
          "output_type": "execute_result",
          "data": {
            "text/html": [
              "<div>\n",
              "<style scoped>\n",
              "    .dataframe tbody tr th:only-of-type {\n",
              "        vertical-align: middle;\n",
              "    }\n",
              "\n",
              "    .dataframe tbody tr th {\n",
              "        vertical-align: top;\n",
              "    }\n",
              "\n",
              "    .dataframe thead th {\n",
              "        text-align: right;\n",
              "    }\n",
              "</style>\n",
              "<table border=\"1\" class=\"dataframe\">\n",
              "  <thead>\n",
              "    <tr style=\"text-align: right;\">\n",
              "      <th>is_click</th>\n",
              "      <th>day</th>\n",
              "      <th>False</th>\n",
              "      <th>True</th>\n",
              "      <th>percent_clicked</th>\n",
              "    </tr>\n",
              "  </thead>\n",
              "  <tbody>\n",
              "    <tr>\n",
              "      <th>0</th>\n",
              "      <td>1 - Monday</td>\n",
              "      <td>81</td>\n",
              "      <td>32</td>\n",
              "      <td>28.32</td>\n",
              "    </tr>\n",
              "    <tr>\n",
              "      <th>1</th>\n",
              "      <td>2 - Tuesday</td>\n",
              "      <td>74</td>\n",
              "      <td>45</td>\n",
              "      <td>37.82</td>\n",
              "    </tr>\n",
              "    <tr>\n",
              "      <th>2</th>\n",
              "      <td>3 - Wednesday</td>\n",
              "      <td>89</td>\n",
              "      <td>35</td>\n",
              "      <td>28.23</td>\n",
              "    </tr>\n",
              "    <tr>\n",
              "      <th>3</th>\n",
              "      <td>4 - Thursday</td>\n",
              "      <td>87</td>\n",
              "      <td>29</td>\n",
              "      <td>25.00</td>\n",
              "    </tr>\n",
              "    <tr>\n",
              "      <th>4</th>\n",
              "      <td>5 - Friday</td>\n",
              "      <td>90</td>\n",
              "      <td>38</td>\n",
              "      <td>29.69</td>\n",
              "    </tr>\n",
              "    <tr>\n",
              "      <th>5</th>\n",
              "      <td>6 - Saturday</td>\n",
              "      <td>76</td>\n",
              "      <td>42</td>\n",
              "      <td>35.59</td>\n",
              "    </tr>\n",
              "    <tr>\n",
              "      <th>6</th>\n",
              "      <td>7 - Sunday</td>\n",
              "      <td>75</td>\n",
              "      <td>34</td>\n",
              "      <td>31.19</td>\n",
              "    </tr>\n",
              "  </tbody>\n",
              "</table>\n",
              "</div>"
            ],
            "text/plain": [
              "is_click            day  False  True  percent_clicked\n",
              "0            1 - Monday     81    32            28.32\n",
              "1           2 - Tuesday     74    45            37.82\n",
              "2         3 - Wednesday     89    35            28.23\n",
              "3          4 - Thursday     87    29            25.00\n",
              "4            5 - Friday     90    38            29.69\n",
              "5          6 - Saturday     76    42            35.59\n",
              "6            7 - Sunday     75    34            31.19"
            ]
          },
          "metadata": {
            "tags": []
          },
          "execution_count": 77
        }
      ]
    },
    {
      "cell_type": "markdown",
      "metadata": {
        "id": "L93KpYHUuH45"
      },
      "source": [
        "## Conclusion:\n",
        "After looking at how both Ad A and Ad B performed it looks like Ad A performed better. Throughout the week *(except for tuesday)* the percentage of people who saw Ad A clicked on the Shoefly.com link. This shows that Ad A had a better performance over all and should be considered the better option for Shoefly.com"
      ]
    },
    {
      "cell_type": "code",
      "metadata": {
        "id": "h7J1KYa7uH45"
      },
      "source": [
        ""
      ],
      "execution_count": null,
      "outputs": []
    }
  ]
}
